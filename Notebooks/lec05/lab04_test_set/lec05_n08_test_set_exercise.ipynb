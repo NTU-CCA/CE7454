{
 "cells": [
  {
   "cell_type": "markdown",
   "metadata": {},
   "source": [
    "# Lab 04: Test Set Evaluation - Exercise"
   ]
  },
  {
   "cell_type": "code",
   "execution_count": 1,
   "metadata": {
    "collapsed": true
   },
   "outputs": [],
   "source": [
    "import torch\n",
    "import torch.nn as nn\n",
    "import torch.nn.functional as F\n",
    "import torch.optim as optim\n",
    "from random import randint\n",
    "import utils"
   ]
  },
  {
   "cell_type": "markdown",
   "metadata": {},
   "source": [
    "### Download the CIFAR dataset -- check the size carefully!"
   ]
  },
  {
   "cell_type": "code",
   "execution_count": 2,
   "metadata": {
    "collapsed": true
   },
   "outputs": [],
   "source": [
    "data_path = \"/Users/dongdongdongdong/Desktop/data/cifar\"\n",
    "\n",
    "train_data = torch.load(data_path + \"/train_data.pt\")\n",
    "train_label = torch.load(data_path + \"/train_label.pt\")\n",
    "test_data = torch.load(data_path + \"/test_data.pt\")\n",
    "test_label = torch.load(data_path + \"/test_label.pt\")"
   ]
  },
  {
   "cell_type": "code",
   "execution_count": 3,
   "metadata": {},
   "outputs": [
    {
     "data": {
      "text/plain": [
       "(torch.Size([50000, 3, 32, 32]), torch.Size([50000]))"
      ]
     },
     "execution_count": 3,
     "metadata": {},
     "output_type": "execute_result"
    }
   ],
   "source": [
    "train_data.shape, train_label.shape"
   ]
  },
  {
   "cell_type": "code",
   "execution_count": 4,
   "metadata": {},
   "outputs": [
    {
     "data": {
      "text/plain": [
       "(torch.Size([10000, 3, 32, 32]), torch.Size([10000]))"
      ]
     },
     "execution_count": 4,
     "metadata": {},
     "output_type": "execute_result"
    }
   ],
   "source": [
    "test_data.shape, test_label.shape"
   ]
  },
  {
   "cell_type": "markdown",
   "metadata": {},
   "source": [
    "### Make a ONE layer net class"
   ]
  },
  {
   "cell_type": "code",
   "execution_count": 5,
   "metadata": {
    "collapsed": true
   },
   "outputs": [],
   "source": [
    "class one_layer_net(nn.Module):\n",
    "\n",
    "    def __init__(self, input_size, output_size):\n",
    "        super(one_layer_net, self).__init__()\n",
    "        self.linear_layer = nn.Linear(input_size, output_size, bias=False)\n",
    "        \n",
    "    def forward(self, x):\n",
    "        scores = self.linear_layer(x)\n",
    "        return scores"
   ]
  },
  {
   "cell_type": "markdown",
   "metadata": {},
   "source": [
    "### Build the net"
   ]
  },
  {
   "cell_type": "code",
   "execution_count": 12,
   "metadata": {},
   "outputs": [
    {
     "name": "stdout",
     "output_type": "stream",
     "text": [
      "one_layer_net(\n",
      "  (linear_layer): Linear(in_features=3072, out_features=10, bias=False)\n",
      ")\n"
     ]
    }
   ],
   "source": [
    "net = one_layer_net(3072, 10)\n",
    "print(net)"
   ]
  },
  {
   "cell_type": "markdown",
   "metadata": {},
   "source": [
    "### Choose the criterion, optimizer, batchsize, learning rate"
   ]
  },
  {
   "cell_type": "code",
   "execution_count": 13,
   "metadata": {
    "collapsed": true
   },
   "outputs": [],
   "source": [
    "criterion = nn.CrossEntropyLoss()\n",
    "\n",
    "optimizer = torch.optim.Adam(net.parameters(), lr=0.001)\n",
    "\n",
    "bs = 200"
   ]
  },
  {
   "cell_type": "markdown",
   "metadata": {},
   "source": [
    "### Do a 50 passes through the training set"
   ]
  },
  {
   "cell_type": "code",
   "execution_count": 14,
   "metadata": {},
   "outputs": [
    {
     "name": "stdout",
     "output_type": "stream",
     "text": [
      "Epoch: 0, Loss: 1.9273717885017394, Error: 68.09599983692169%\n",
      "Epoch: 1, Loss: 1.8220949158668518, Error: 63.59399967193603%\n",
      "Epoch: 2, Loss: 1.78948503780365, Error: 62.27200021743774%\n",
      "Epoch: 3, Loss: 1.7878308882713319, Error: 62.1360000371933%\n",
      "Epoch: 4, Loss: 1.7681951627731323, Error: 61.31800012588501%\n",
      "Epoch: 5, Loss: 1.7596465458869934, Error: 60.892000293731684%\n",
      "Epoch: 6, Loss: 1.747454520702362, Error: 60.266000390052795%\n",
      "Epoch: 7, Loss: 1.7441258454322814, Error: 60.57000033855439%\n",
      "Epoch: 8, Loss: 1.7437040858268738, Error: 60.30200035572052%\n",
      "Epoch: 9, Loss: 1.7339965305328369, Error: 59.82800049781799%\n",
      "Epoch: 10, Loss: 1.727798146724701, Error: 59.620000457763666%\n",
      "Epoch: 11, Loss: 1.729230486869812, Error: 59.64600040912627%\n",
      "Epoch: 12, Loss: 1.726452663898468, Error: 59.2820004940033%\n",
      "Epoch: 13, Loss: 1.7229637041091919, Error: 59.41000065803528%\n",
      "Epoch: 14, Loss: 1.7179340314865112, Error: 59.1700003862381%\n",
      "Epoch: 15, Loss: 1.7168496446609498, Error: 59.00600020885467%\n",
      "Epoch: 16, Loss: 1.7114053740501405, Error: 58.93200047016144%\n",
      "Epoch: 17, Loss: 1.7172236776351928, Error: 59.112000465393066%\n",
      "Epoch: 18, Loss: 1.7119223837852477, Error: 58.950000405311584%\n",
      "Epoch: 19, Loss: 1.7072874903678894, Error: 58.626000380516054%\n",
      "Epoch: 20, Loss: 1.709346933364868, Error: 58.746000504493715%\n",
      "Epoch: 21, Loss: 1.703879562854767, Error: 58.53400022983551%\n",
      "Epoch: 22, Loss: 1.7047204847335815, Error: 58.63400044441222%\n",
      "Epoch: 23, Loss: 1.7060971779823304, Error: 58.83600025177002%\n",
      "Epoch: 24, Loss: 1.7057199997901917, Error: 58.81200063228608%\n",
      "Epoch: 25, Loss: 1.6999723625183105, Error: 58.29200053215027%\n",
      "Epoch: 26, Loss: 1.7021202569007874, Error: 58.49200048446656%\n",
      "Epoch: 27, Loss: 1.7057999305725098, Error: 58.70400035381317%\n",
      "Epoch: 28, Loss: 1.694196228504181, Error: 58.30000069141388%\n",
      "Epoch: 29, Loss: 1.6999367475509644, Error: 58.28400053977967%\n",
      "Epoch: 30, Loss: 1.6954209175109862, Error: 58.08400034904479%\n",
      "Epoch: 31, Loss: 1.6967881593704224, Error: 58.16000049114227%\n",
      "Epoch: 32, Loss: 1.6923890171051026, Error: 57.9500004529953%\n",
      "Epoch: 33, Loss: 1.6883919668197631, Error: 57.846000337600714%\n",
      "Epoch: 34, Loss: 1.6923178911209107, Error: 58.11000046730042%\n",
      "Epoch: 35, Loss: 1.6949918332099914, Error: 58.05800054073333%\n",
      "Epoch: 36, Loss: 1.681745458126068, Error: 57.45200018882751%\n",
      "Epoch: 37, Loss: 1.6878469519615173, Error: 57.79000015258789%\n",
      "Epoch: 38, Loss: 1.691960211277008, Error: 57.99400026798248%\n",
      "Epoch: 39, Loss: 1.69623792552948, Error: 58.32800054550171%\n",
      "Epoch: 40, Loss: 1.687471531867981, Error: 58.034000396728516%\n",
      "Epoch: 41, Loss: 1.6864438076019288, Error: 57.76600017547607%\n",
      "Epoch: 42, Loss: 1.6861365447044372, Error: 57.9540004491806%\n",
      "Epoch: 43, Loss: 1.679195126056671, Error: 57.54600038528442%\n",
      "Epoch: 44, Loss: 1.6797593579292298, Error: 57.63000049591065%\n",
      "Epoch: 45, Loss: 1.6805431127548218, Error: 57.60400023460388%\n",
      "Epoch: 46, Loss: 1.6867094106674194, Error: 57.614000010490415%\n",
      "Epoch: 47, Loss: 1.6761911430358887, Error: 57.47400016784668%\n",
      "Epoch: 48, Loss: 1.6800945467948913, Error: 57.54200026988984%\n",
      "Epoch: 49, Loss: 1.6854689412117005, Error: 57.8900003671646%\n"
     ]
    }
   ],
   "source": [
    "for epoch in range(50):\n",
    "    \n",
    "    running_loss = 0.0\n",
    "    running_error = 0\n",
    "    num_batches = 0\n",
    "    \n",
    "    shuffled_indices = torch.randperm(50000)\n",
    "    \n",
    "    for i in range(0, 50000, bs):\n",
    "        optimizer.zero_grad()\n",
    "        \n",
    "        indices = shuffled_indices[i : i+bs]\n",
    "        minibatch_data = train_data[indices]\n",
    "        minibatch_labels = train_label[indices]\n",
    "        \n",
    "        inputs = minibatch_data.view(bs, -1)\n",
    "        inputs.requires_grad_()\n",
    "        \n",
    "        scores = net(inputs)\n",
    "        loss = criterion(scores, minibatch_labels)\n",
    "        loss.backward()\n",
    "        optimizer.step()\n",
    "        \n",
    "        running_loss += loss.detach().item()\n",
    "        error = utils.get_error(scores.detach(), minibatch_labels)\n",
    "        running_error += error.item()\n",
    "        num_batches += 1\n",
    "        \n",
    "    total_loss = running_loss / num_batches\n",
    "    total_error = running_error / num_batches\n",
    "    print(\"Epoch: {}, Loss: {}, Error: {}%\".format(\n",
    "        epoch, total_loss, total_error*100))"
   ]
  },
  {
   "cell_type": "markdown",
   "metadata": {},
   "source": [
    "## You only have to complete this cell\n",
    "\n",
    "### So we are doing around 58% error on the training set, how much are we doing on test set?"
   ]
  },
  {
   "cell_type": "code",
   "execution_count": 15,
   "metadata": {},
   "outputs": [
    {
     "name": "stdout",
     "output_type": "stream",
     "text": [
      "Error rate on test set: 62.139999866485596%\n"
     ]
    }
   ],
   "source": [
    "running_error = 0\n",
    "num_batches = 0\n",
    "\n",
    "for i in range(0, test_data.shape[0], bs):\n",
    "    \n",
    "    minibatch_data = test_data[i : i+bs]\n",
    "    minibatch_labels = test_label[i : i+bs]\n",
    "    \n",
    "    inputs = minibatch_data.view(bs, -1)\n",
    "    \n",
    "    scores = net(inputs)\n",
    "    \n",
    "    error = utils.get_error(scores, minibatch_labels)\n",
    "    \n",
    "    running_error += error.item()\n",
    "    num_batches += 1\n",
    "\n",
    "total_error = running_error / num_batches\n",
    "print(\"Error rate on test set: {}%\".format(total_error*100))"
   ]
  },
  {
   "cell_type": "markdown",
   "metadata": {},
   "source": [
    "### Choose image at random from the test set and see how good/bad are the predictions"
   ]
  },
  {
   "cell_type": "code",
   "execution_count": 16,
   "metadata": {},
   "outputs": [
    {
     "data": {
      "image/png": "[encoded data removed]",
      "text/plain": [
       "<matplotlib.figure.Figure at 0x7f7f88d43c88>"
      ]
     },
     "metadata": {},
     "output_type": "display_data"
    }
   ],
   "source": [
    "idx = randint(1, 10000-1)\n",
    "im = test_data[idx]\n",
    "utils.show(im)"
   ]
  },
  {
   "cell_type": "code",
   "execution_count": 17,
   "metadata": {},
   "outputs": [
    {
     "data": {
      "image/png": "[encoded data removed]",
      "text/plain": [
       "<matplotlib.figure.Figure at 0x7f7f8971b4a8>"
      ]
     },
     "metadata": {},
     "output_type": "display_data"
    }
   ],
   "source": [
    "scores = net(im.view(1, -1))\n",
    "probs = F.softmax(scores, dim=1)\n",
    "utils.show_prob_cifar(probs)"
   ]
  },
  {
   "cell_type": "code",
   "execution_count": 18,
   "metadata": {},
   "outputs": [
    {
     "data": {
      "text/plain": [
       "tensor(8)"
      ]
     },
     "execution_count": 18,
     "metadata": {},
     "output_type": "execute_result"
    }
   ],
   "source": [
    "test_label[idx]"
   ]
  }
 ],
 "metadata": {
  "kernelspec": {
   "display_name": "Python 3",
   "language": "python",
   "name": "python3"
  },
  "language_info": {
   "codemirror_mode": {
    "name": "ipython",
    "version": 3
   },
   "file_extension": ".py",
   "mimetype": "text/x-python",
   "name": "python",
   "nbconvert_exporter": "python",
   "pygments_lexer": "ipython3",
   "version": "3.6.9"
  }
 },
 "nbformat": 4,
 "nbformat_minor": 2
}
