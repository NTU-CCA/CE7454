{
 "cells": [
  {
   "cell_type": "markdown",
   "metadata": {},
   "source": [
    "# Lab 04: Test Set Evaluation - Demo"
   ]
  },
  {
   "cell_type": "code",
   "execution_count": 1,
   "metadata": {
    "collapsed": true
   },
   "outputs": [],
   "source": [
    "import torch\n",
    "import torch.nn as nn\n",
    "import torch.nn.functional as F\n",
    "import torch.optim as optim\n",
    "from random import randint\n",
    "import utils"
   ]
  },
  {
   "cell_type": "markdown",
   "metadata": {},
   "source": [
    "### Download the data and print the sizes"
   ]
  },
  {
   "cell_type": "code",
   "execution_count": 2,
   "metadata": {
    "collapsed": true
   },
   "outputs": [],
   "source": [
    "data_path = \"/Users/dongdongdongdong/Desktop/data/mnist\"\n",
    "\n",
    "train_data = torch.load(data_path + \"/train_data.pt\")\n",
    "train_label = torch.load(data_path + \"/train_label.pt\")\n",
    "test_data = torch.load(data_path + \"/test_data.pt\")\n",
    "test_label = torch.load(data_path + \"/test_label.pt\")"
   ]
  },
  {
   "cell_type": "markdown",
   "metadata": {},
   "source": [
    "### Make a ONE layer net class"
   ]
  },
  {
   "cell_type": "code",
   "execution_count": 3,
   "metadata": {
    "collapsed": true
   },
   "outputs": [],
   "source": [
    "class one_layer_net(nn.Module):\n",
    "\n",
    "    def __init__(self, input_size, output_size):\n",
    "        super(one_layer_net, self).__init__()\n",
    "        self.linear_layer = nn.Linear(input_size, output_size, bias=False)\n",
    "        \n",
    "    def forward(self, x):\n",
    "        scores = self.linear_layer(x)\n",
    "        return scores"
   ]
  },
  {
   "cell_type": "markdown",
   "metadata": {},
   "source": [
    "### Build the net"
   ]
  },
  {
   "cell_type": "code",
   "execution_count": 4,
   "metadata": {},
   "outputs": [
    {
     "name": "stdout",
     "output_type": "stream",
     "text": [
      "one_layer_net(\n",
      "  (linear_layer): Linear(in_features=784, out_features=10, bias=False)\n",
      ")\n"
     ]
    }
   ],
   "source": [
    "net = one_layer_net(784, 10)\n",
    "print(net)"
   ]
  },
  {
   "cell_type": "markdown",
   "metadata": {},
   "source": [
    "### Choose the criterion, optimizer, batchsize, learning rate"
   ]
  },
  {
   "cell_type": "code",
   "execution_count": 8,
   "metadata": {
    "collapsed": true
   },
   "outputs": [],
   "source": [
    "criterion = nn.CrossEntropyLoss()\n",
    "\n",
    "optimizer = torch.optim.Adam(net.parameters(), lr=0.001)\n",
    "\n",
    "bs = 200"
   ]
  },
  {
   "cell_type": "markdown",
   "metadata": {},
   "source": [
    "### Do a 30 passes through the training set"
   ]
  },
  {
   "cell_type": "code",
   "execution_count": 10,
   "metadata": {},
   "outputs": [
    {
     "name": "stdout",
     "output_type": "stream",
     "text": [
      "Epoch: 0, Loss: 0.24660657194753488, Error: 6.783333122730255%\n",
      "Epoch: 1, Loss: 0.2463937591512998, Error: 6.8333333532015486%\n",
      "Epoch: 2, Loss: 0.24604204162955284, Error: 6.721666554609934%\n",
      "Epoch: 3, Loss: 0.2454737404982249, Error: 6.754999995231628%\n",
      "Epoch: 4, Loss: 0.24519858246048293, Error: 6.655000030994415%\n",
      "Epoch: 5, Loss: 0.24478671342134475, Error: 6.698333203792572%\n",
      "Epoch: 6, Loss: 0.24424668982625009, Error: 6.714999934037526%\n",
      "Epoch: 7, Loss: 0.24410428563753764, Error: 6.691666642824809%\n",
      "Epoch: 8, Loss: 0.24348315114776292, Error: 6.653333246707917%\n",
      "Epoch: 9, Loss: 0.2431282861282428, Error: 6.630000054836273%\n",
      "Epoch: 10, Loss: 0.2427580632766088, Error: 6.6500000556310015%\n",
      "Epoch: 11, Loss: 0.24237489980955917, Error: 6.619999945163727%\n",
      "Epoch: 12, Loss: 0.24192900257805983, Error: 6.609999855359396%\n",
      "Epoch: 13, Loss: 0.24167667681972185, Error: 6.60666678349177%\n",
      "Epoch: 14, Loss: 0.24148350305855273, Error: 6.576666692892711%\n",
      "Epoch: 15, Loss: 0.24105784858266513, Error: 6.583333253860474%\n",
      "Epoch: 16, Loss: 0.24077833158274492, Error: 6.551666657129923%\n",
      "Epoch: 17, Loss: 0.24040207356214524, Error: 6.588333308696746%\n",
      "Epoch: 18, Loss: 0.2402572790533304, Error: 6.51666667064031%\n",
      "Epoch: 19, Loss: 0.23972543480495612, Error: 6.540000041325887%\n",
      "Epoch: 20, Loss: 0.23961037062108517, Error: 6.5283334255218515%\n",
      "Epoch: 21, Loss: 0.23927660065392653, Error: 6.533333261807759%\n",
      "Epoch: 22, Loss: 0.2394319773465395, Error: 6.495000123977661%\n",
      "Epoch: 23, Loss: 0.23892225628097852, Error: 6.480000118414561%\n",
      "Epoch: 24, Loss: 0.23864537365734578, Error: 6.4550000826517735%\n",
      "Epoch: 25, Loss: 0.23855160762866337, Error: 6.478333294391632%\n",
      "Epoch: 26, Loss: 0.238165754104654, Error: 6.458333273728689%\n",
      "Epoch: 27, Loss: 0.23768097713589667, Error: 6.4183334310849505%\n",
      "Epoch: 28, Loss: 0.23794078588485718, Error: 6.448333323001862%\n",
      "Epoch: 29, Loss: 0.23760797274609408, Error: 6.528333326180776%\n"
     ]
    }
   ],
   "source": [
    "for epoch in range(30):\n",
    "    \n",
    "    running_loss = 0.0\n",
    "    running_error = 0\n",
    "    num_batches = 0\n",
    "    \n",
    "    shuffled_indices = torch.randperm(60000)\n",
    "    \n",
    "    for i in range(0, 60000, bs):\n",
    "        optimizer.zero_grad()\n",
    "        \n",
    "        indices = shuffled_indices[i : i+bs]\n",
    "        minibatch_data = train_data[indices]\n",
    "        minibatch_labels = train_label[indices]\n",
    "        \n",
    "        inputs = minibatch_data.view(bs, -1)\n",
    "        inputs.requires_grad_()\n",
    "        \n",
    "        scores = net(inputs)\n",
    "        loss = criterion(scores, minibatch_labels)\n",
    "        loss.backward()\n",
    "        optimizer.step()\n",
    "        \n",
    "        running_loss += loss.detach().item()\n",
    "        error = utils.get_error(scores.detach(), minibatch_labels)\n",
    "        running_error += error.item()\n",
    "        num_batches += 1\n",
    "        \n",
    "    total_loss = running_loss / num_batches\n",
    "    total_error = running_error / num_batches\n",
    "    print(\"Epoch: {}, Loss: {}, Error: {}%\".format(\n",
    "        epoch, total_loss, total_error*100))"
   ]
  },
  {
   "cell_type": "markdown",
   "metadata": {},
   "source": [
    "### Now that the network is trained and do 10% of error on the training set, we are going to see how well it is doing on the test set..."
   ]
  },
  {
   "cell_type": "code",
   "execution_count": 11,
   "metadata": {},
   "outputs": [
    {
     "name": "stdout",
     "output_type": "stream",
     "text": [
      "Error rate on test set: 7.2799999713897705%\n"
     ]
    }
   ],
   "source": [
    "running_error = 0\n",
    "num_batches = 0\n",
    "\n",
    "for i in range(0, 10000, bs):\n",
    "    \n",
    "    # extract the minibatch\n",
    "    minibatch_data = test_data[i : i+bs]\n",
    "    minibatch_labels = test_label[i : i+bs]\n",
    "    \n",
    "    # reshape the minibatch\n",
    "    inputs = minibatch_data.view(bs, -1)\n",
    "    \n",
    "    # feed it to the network\n",
    "    scores = net(inputs)\n",
    "    \n",
    "    # compute the error made on this batch\n",
    "    error = utils.get_error(scores, minibatch_labels)\n",
    "    \n",
    "    # add it to the running error\n",
    "    running_error += error.item()\n",
    "    num_batches += 1\n",
    "    \n",
    "# compute error rate on the full test set\n",
    "total_error = running_error / num_batches\n",
    "print(\"Error rate on test set: {}%\".format(total_error*100))"
   ]
  },
  {
   "cell_type": "markdown",
   "metadata": {},
   "source": [
    "### Choose image at random from the test set and see how good/bad are the predictions"
   ]
  },
  {
   "cell_type": "code",
   "execution_count": 12,
   "metadata": {},
   "outputs": [
    {
     "data": {
      "image/png": "[encoded data removed]",
      "text/plain": [
       "<matplotlib.figure.Figure at 0x7fbb800c0b70>"
      ]
     },
     "metadata": {},
     "output_type": "display_data"
    }
   ],
   "source": [
    "idx = randint(0, 10000-1)\n",
    "im = test_data[idx]\n",
    "\n",
    "utils.show(im)"
   ]
  },
  {
   "cell_type": "code",
   "execution_count": 13,
   "metadata": {},
   "outputs": [
    {
     "name": "stderr",
     "output_type": "stream",
     "text": [
      "/Users/dongdongdongdong/anaconda3/lib/python3.6/site-packages/ipykernel_launcher.py:2: UserWarning: Implicit dimension choice for softmax has been deprecated. Change the call to include dim=X as an argument.\n",
      "  \n"
     ]
    },
    {
     "data": {
      "image/png": "[encoded data removed]",
      "text/plain": [
       "<matplotlib.figure.Figure at 0x7fbb81d89f28>"
      ]
     },
     "metadata": {},
     "output_type": "display_data"
    }
   ],
   "source": [
    "scores = net(im.view(1, -1))\n",
    "probs = F.softmax(scores)\n",
    "utils.show_prob_mnist(probs)"
   ]
  },
  {
   "cell_type": "code",
   "execution_count": 14,
   "metadata": {},
   "outputs": [
    {
     "data": {
      "text/plain": [
       "tensor(9)"
      ]
     },
     "execution_count": 14,
     "metadata": {},
     "output_type": "execute_result"
    }
   ],
   "source": [
    "test_label[idx]"
   ]
  }
 ],
 "metadata": {
  "kernelspec": {
   "display_name": "Python 3",
   "language": "python",
   "name": "python3"
  },
  "language_info": {
   "codemirror_mode": {
    "name": "ipython",
    "version": 3
   },
   "file_extension": ".py",
   "mimetype": "text/x-python",
   "name": "python",
   "nbconvert_exporter": "python",
   "pygments_lexer": "ipython3",
   "version": "3.6.9"
  }
 },
 "nbformat": 4,
 "nbformat_minor": 2
}
