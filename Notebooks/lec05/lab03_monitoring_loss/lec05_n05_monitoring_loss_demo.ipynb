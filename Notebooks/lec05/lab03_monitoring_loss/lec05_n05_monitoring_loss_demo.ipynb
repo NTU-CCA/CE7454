{
 "cells": [
  {
   "cell_type": "markdown",
   "metadata": {},
   "source": [
    "# Lab 03: Loss and Error Rate - Demo"
   ]
  },
  {
   "cell_type": "code",
   "execution_count": 1,
   "metadata": {
    "collapsed": true
   },
   "outputs": [],
   "source": [
    "import torch\n",
    "import torch.nn as nn\n",
    "import torch.nn.functional as F\n",
    "import torch.optim as optim\n",
    "from random import randint\n",
    "import utils"
   ]
  },
  {
   "cell_type": "markdown",
   "metadata": {},
   "source": [
    "### Download the data and print the sizes"
   ]
  },
  {
   "cell_type": "code",
   "execution_count": 2,
   "metadata": {
    "collapsed": true
   },
   "outputs": [],
   "source": [
    "data_path = \"/Users/dongdongdongdong/Desktop/data/mnist\"\n",
    "\n",
    "train_data = torch.load(data_path + \"/train_data.pt\")\n",
    "train_label = torch.load(data_path + \"/train_label.pt\")\n",
    "test_data = torch.load(data_path + \"/test_data.pt\")\n",
    "test_label = torch.load(data_path + \"/test_label.pt\")"
   ]
  },
  {
   "cell_type": "markdown",
   "metadata": {},
   "source": [
    "### Make a ONE layer net class"
   ]
  },
  {
   "cell_type": "code",
   "execution_count": 3,
   "metadata": {
    "collapsed": true
   },
   "outputs": [],
   "source": [
    "class one_layer_net(nn.Module):\n",
    "\n",
    "    def __init__(self, input_size, output_size):\n",
    "        super(one_layer_net, self).__init__()\n",
    "        self.linear_layer = nn.Linear(input_size, output_size, bias=False)\n",
    "        \n",
    "    def forward(self, x):\n",
    "        scores = self.linear_layer(x)\n",
    "        return scores"
   ]
  },
  {
   "cell_type": "markdown",
   "metadata": {},
   "source": [
    "### Build the net"
   ]
  },
  {
   "cell_type": "code",
   "execution_count": 4,
   "metadata": {},
   "outputs": [
    {
     "name": "stdout",
     "output_type": "stream",
     "text": [
      "one_layer_net(\n",
      "  (linear_layer): Linear(in_features=784, out_features=10, bias=False)\n",
      ")\n"
     ]
    }
   ],
   "source": [
    "net = one_layer_net(784, 10)\n",
    "print(net)"
   ]
  },
  {
   "cell_type": "markdown",
   "metadata": {},
   "source": [
    "### Choose the criterion, optimizer, batchsize, learning rate"
   ]
  },
  {
   "cell_type": "code",
   "execution_count": 12,
   "metadata": {
    "collapsed": true
   },
   "outputs": [],
   "source": [
    "criterion = nn.CrossEntropyLoss()\n",
    "\n",
    "optimizer = torch.optim.SGD(net.parameters(), lr=0.001)\n",
    "\n",
    "bs = 200"
   ]
  },
  {
   "cell_type": "markdown",
   "metadata": {},
   "source": [
    "### Do 30 passes through the training set"
   ]
  },
  {
   "cell_type": "code",
   "execution_count": 16,
   "metadata": {},
   "outputs": [
    {
     "name": "stdout",
     "output_type": "stream",
     "text": [
      "epoch= 0 \t loss= 0.6333854047457377 \t error= 14.343333264191946 %\n",
      "epoch= 1 \t loss= 0.6260395368933678 \t error= 14.219999810059866 %\n",
      "epoch= 2 \t loss= 0.6190707616011302 \t error= 14.166666467984518 %\n",
      "epoch= 3 \t loss= 0.6124494745333989 \t error= 14.069999913374584 %\n",
      "epoch= 4 \t loss= 0.6061556928356489 \t error= 13.988333205382029 %\n",
      "epoch= 5 \t loss= 0.60015865812699 \t error= 13.92666643857956 %\n",
      "epoch= 6 \t loss= 0.5944357858101527 \t error= 13.858333190282185 %\n",
      "epoch= 7 \t loss= 0.5889709513386091 \t error= 13.783333162466684 %\n",
      "epoch= 8 \t loss= 0.5837450153628985 \t error= 13.73499983549118 %\n",
      "epoch= 9 \t loss= 0.5787398808201154 \t error= 13.660000026226044 %\n",
      "epoch= 10 \t loss= 0.573942714035511 \t error= 13.594999929269155 %\n",
      "epoch= 11 \t loss= 0.569340049525102 \t error= 13.534999827543896 %\n",
      "epoch= 12 \t loss= 0.5649199258287748 \t error= 13.490000009536743 %\n",
      "epoch= 13 \t loss= 0.5606681993603706 \t error= 13.418333331743876 %\n",
      "epoch= 14 \t loss= 0.556577935218811 \t error= 13.366666535536448 %\n",
      "epoch= 15 \t loss= 0.552636917134126 \t error= 13.319999893506369 %\n",
      "epoch= 16 \t loss= 0.548839525282383 \t error= 13.246666451295216 %\n",
      "epoch= 17 \t loss= 0.5451730633775393 \t error= 13.191666503747305 %\n",
      "epoch= 18 \t loss= 0.5416343939304352 \t error= 13.123333275318148 %\n",
      "epoch= 19 \t loss= 0.5382167451580365 \t error= 13.086666723092396 %\n",
      "epoch= 20 \t loss= 0.5349087326725324 \t error= 13.056666493415833 %\n",
      "epoch= 21 \t loss= 0.5317099921902021 \t error= 13.023333211739857 %\n",
      "epoch= 22 \t loss= 0.5286118302742641 \t error= 12.974999884764355 %\n",
      "epoch= 23 \t loss= 0.5256108589967092 \t error= 12.913333376248678 %\n",
      "epoch= 24 \t loss= 0.5226985504229863 \t error= 12.896666646003723 %\n",
      "epoch= 25 \t loss= 0.5198790268103282 \t error= 12.853333214918772 %\n",
      "epoch= 26 \t loss= 0.517139755586783 \t error= 12.826666434605915 %\n",
      "epoch= 27 \t loss= 0.5144783705472946 \t error= 12.786666671435038 %\n",
      "epoch= 28 \t loss= 0.5118922902146975 \t error= 12.76000001033147 %\n",
      "epoch= 29 \t loss= 0.5093800849715868 \t error= 12.72166673342387 %\n"
     ]
    }
   ],
   "source": [
    "for epoch in range(30):\n",
    "    \n",
    "    running_loss = 0.0\n",
    "    running_error = 0\n",
    "    num_batches = 0\n",
    "    \n",
    "    shuffled_indices = torch.randperm(60000)\n",
    "    \n",
    "    for i in range(0, 60000, bs):\n",
    "        \n",
    "        optimizer.zero_grad()\n",
    "        \n",
    "        indices = shuffled_indices[i : i+bs]\n",
    "        minibatch_data = train_data[indices]\n",
    "        minibatch_labels = train_label[indices]\n",
    "        \n",
    "        inputs = minibatch_data.view(bs, 784)\n",
    "        inputs.requires_grad_()\n",
    "        \n",
    "        scores = net(inputs)\n",
    "        loss = criterion(scores, minibatch_labels)\n",
    "        loss.backward()\n",
    "        optimizer.step()\n",
    "        \n",
    "        # compute and accumulate stats\n",
    "        running_loss += loss.detach().item()\n",
    "        error = utils.get_error(scores.detach(), minibatch_labels)\n",
    "        running_error += error.item()\n",
    "        num_batches += 1\n",
    "        \n",
    "    # compute stats for the full training set\n",
    "    total_loss = running_loss / num_batches\n",
    "    total_error = running_error / num_batches\n",
    "    \n",
    "    print('epoch=', epoch, '\\t loss=', total_loss, '\\t error=', total_error*100,'%')"
   ]
  },
  {
   "cell_type": "markdown",
   "metadata": {},
   "source": [
    "### Choose image at random from the test set and see how good/bad are the predictions"
   ]
  },
  {
   "cell_type": "code",
   "execution_count": 18,
   "metadata": {},
   "outputs": [
    {
     "data": {
      "image/png": "[encoded data removed]",
      "text/plain": [
       "<matplotlib.figure.Figure at 0x7fb37f428e48>"
      ]
     },
     "metadata": {},
     "output_type": "display_data"
    },
    {
     "data": {
      "image/png": "[encoded data removed]",
      "text/plain": [
       "<matplotlib.figure.Figure at 0x7fb3759e8588>"
      ]
     },
     "metadata": {},
     "output_type": "display_data"
    }
   ],
   "source": [
    "# choose a picture at random\n",
    "idx=randint(0, 10000-1)\n",
    "im=test_data[idx]\n",
    "\n",
    "# diplay the picture\n",
    "utils.show(im)\n",
    "\n",
    "# feed it to the net and display the confidence scores\n",
    "scores =  net( im.view(1,784)) \n",
    "probs= F.softmax(scores, dim=1)\n",
    "utils.show_prob_mnist(probs)"
   ]
  },
  {
   "cell_type": "code",
   "execution_count": null,
   "metadata": {
    "collapsed": true
   },
   "outputs": [],
   "source": []
  }
 ],
 "metadata": {
  "kernelspec": {
   "display_name": "Python 3",
   "language": "python",
   "name": "python3"
  },
  "language_info": {
   "codemirror_mode": {
    "name": "ipython",
    "version": 3
   },
   "file_extension": ".py",
   "mimetype": "text/x-python",
   "name": "python",
   "nbconvert_exporter": "python",
   "pygments_lexer": "ipython3",
   "version": "3.6.9"
  }
 },
 "nbformat": 4,
 "nbformat_minor": 2
}
