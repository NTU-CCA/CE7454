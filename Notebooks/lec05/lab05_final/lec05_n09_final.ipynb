{
 "cells": [
  {
   "cell_type": "markdown",
   "metadata": {},
   "source": [
    "# Lab 05: Final Code - Demo"
   ]
  },
  {
   "cell_type": "code",
   "execution_count": 1,
   "metadata": {
    "collapsed": true
   },
   "outputs": [],
   "source": [
    "import torch\n",
    "import torch.nn as nn\n",
    "import torch.nn.functional as F\n",
    "import torch.optim as optim\n",
    "from random import randint\n",
    "import time\n",
    "import utils"
   ]
  },
  {
   "cell_type": "markdown",
   "metadata": {},
   "source": [
    "### Download the data"
   ]
  },
  {
   "cell_type": "code",
   "execution_count": 2,
   "metadata": {
    "collapsed": true
   },
   "outputs": [],
   "source": [
    "data_path = \"/Users/dongdongdongdong/Desktop/data/mnist\"\n",
    "\n",
    "train_data = torch.load(data_path + \"/train_data.pt\")\n",
    "train_label = torch.load(data_path + \"/train_label.pt\")\n",
    "test_data = torch.load(data_path + \"/test_data.pt\")\n",
    "test_label = torch.load(data_path + \"/test_label.pt\")"
   ]
  },
  {
   "cell_type": "markdown",
   "metadata": {},
   "source": [
    "### Make a ONE layer net class"
   ]
  },
  {
   "cell_type": "code",
   "execution_count": 3,
   "metadata": {
    "collapsed": true
   },
   "outputs": [],
   "source": [
    "class one_layer_net(nn.Module):\n",
    "\n",
    "    def __init__(self, input_size, output_size):\n",
    "        super(one_layer_net, self).__init__()\n",
    "        self.linear_layer = nn.Linear(input_size, output_size, bias=False)\n",
    "        \n",
    "    def forward(self, x):\n",
    "        scores = self.linear_layer(x)\n",
    "        return scores"
   ]
  },
  {
   "cell_type": "markdown",
   "metadata": {},
   "source": [
    "### Build the net"
   ]
  },
  {
   "cell_type": "code",
   "execution_count": 4,
   "metadata": {},
   "outputs": [
    {
     "name": "stdout",
     "output_type": "stream",
     "text": [
      "one_layer_net(\n",
      "  (linear_layer): Linear(in_features=784, out_features=10, bias=False)\n",
      ")\n"
     ]
    }
   ],
   "source": [
    "net = one_layer_net(train_data.shape[1]*train_data.shape[2], 10)\n",
    "print(net)"
   ]
  },
  {
   "cell_type": "code",
   "execution_count": 5,
   "metadata": {},
   "outputs": [
    {
     "name": "stdout",
     "output_type": "stream",
     "text": [
      "There are 7840 (0.01 million) parameters in this neural network\n"
     ]
    }
   ],
   "source": [
    "utils.display_num_param(net)"
   ]
  },
  {
   "cell_type": "markdown",
   "metadata": {},
   "source": [
    "### Choose the criterion, batchsize"
   ]
  },
  {
   "cell_type": "code",
   "execution_count": 6,
   "metadata": {
    "collapsed": true
   },
   "outputs": [],
   "source": [
    "criterion = nn.CrossEntropyLoss()\n",
    "bs = 200"
   ]
  },
  {
   "cell_type": "markdown",
   "metadata": {},
   "source": [
    "### Evaluate on test set"
   ]
  },
  {
   "cell_type": "code",
   "execution_count": 7,
   "metadata": {
    "collapsed": true
   },
   "outputs": [],
   "source": [
    "def eval_on_test_set():\n",
    "    \n",
    "    running_error = 0\n",
    "    num_batches = 0\n",
    "    \n",
    "    for i in range(0, 10000, bs):\n",
    "        minibatch_data = test_data[i : i+bs]\n",
    "        minibatch_labels = test_label[i : i+bs]\n",
    "        \n",
    "        inputs = minibatch_data.view(bs, -1)\n",
    "        scores = net(inputs)\n",
    "        \n",
    "        error = utils.get_error(scores, minibatch_labels)\n",
    "        running_error += error.item()\n",
    "        num_batches += 1\n",
    "    \n",
    "    total_error = running_error / num_batches\n",
    "    print(\"Error rate on test set: {}%\".format(total_error*100))"
   ]
  },
  {
   "cell_type": "markdown",
   "metadata": {},
   "source": [
    "### Training loop"
   ]
  },
  {
   "cell_type": "code",
   "execution_count": 8,
   "metadata": {},
   "outputs": [
    {
     "name": "stdout",
     "output_type": "stream",
     "text": [
      " \n",
      "Epoch: 0, Time: 0.2553131580352783, Loss: 0.9564166595538457, Error: 19.045001983642578%, lr: 0.03333333333333333\n",
      " \n",
      "Epoch: 10, Time: 2.1351370811462402, Loss: 0.3506368497014046, Error: 9.709997177124023%, lr: 0.022222222222222223\n",
      " \n",
      "Epoch: 20, Time: 3.898437261581421, Loss: 0.3272425927221775, Error: 9.049994468688965%, lr: 0.014814814814814815\n",
      " \n",
      "Epoch: 30, Time: 5.6762120723724365, Loss: 0.31805565088987353, Error: 8.851663589477539%, lr: 0.009876543209876543\n",
      " \n",
      "Epoch: 40, Time: 7.457877159118652, Loss: 0.3133499799668789, Error: 8.711663246154785%, lr: 0.006584362139917695\n",
      " \n",
      "Epoch: 50, Time: 9.222362279891968, Loss: 0.31062244166930514, Error: 8.630001068115234%, lr: 0.0043895747599451305\n",
      " \n",
      "Epoch: 60, Time: 10.996838092803955, Loss: 0.30897445117433864, Error: 8.573330879211426%, lr: 0.0029263831732967535\n",
      " \n",
      "Epoch: 70, Time: 12.820904970169067, Loss: 0.3079262979825338, Error: 8.548330307006836%, lr: 0.001950922115531169\n",
      " \n",
      "Epoch: 80, Time: 14.852985143661499, Loss: 0.30725497941176094, Error: 8.526664733886719%, lr: 0.001300614743687446\n",
      " \n",
      "Epoch: 90, Time: 16.90153217315674, Loss: 0.30681798825661344, Error: 8.529998779296875%, lr: 0.0008670764957916306\n",
      " \n",
      "Epoch: 100, Time: 19.284060955047607, Loss: 0.30653083011507987, Error: 8.516664505004883%, lr: 0.0005780509971944203\n",
      " \n",
      "Epoch: 110, Time: 21.439150094985962, Loss: 0.30634104162454606, Error: 8.511665344238281%, lr: 0.0003853673314629469\n",
      " \n",
      "Epoch: 120, Time: 23.542057991027832, Loss: 0.30621555298566816, Error: 8.509997367858887%, lr: 0.00025691155430863124\n",
      " \n",
      "Epoch: 130, Time: 25.386767148971558, Loss: 0.30613242571552596, Error: 8.511665344238281%, lr: 0.0001712743695390875\n",
      " \n",
      "Epoch: 140, Time: 27.19482111930847, Loss: 0.3060770785808563, Error: 8.509995460510254%, lr: 0.00011418291302605833\n",
      " \n",
      "Epoch: 150, Time: 29.039810180664062, Loss: 0.30604031950235366, Error: 8.511662483215332%, lr: 7.612194201737223e-05\n",
      " \n",
      "Epoch: 160, Time: 30.85266613960266, Loss: 0.3060158434510231, Error: 8.511666297912598%, lr: 5.074796134491482e-05\n",
      " \n",
      "Epoch: 170, Time: 32.62076807022095, Loss: 0.3059996147453785, Error: 8.511663436889648%, lr: 3.3831974229943214e-05\n",
      " \n",
      "Epoch: 180, Time: 34.39716625213623, Loss: 0.305988868077596, Error: 8.511662483215332%, lr: 2.255464948662881e-05\n",
      " \n",
      "Epoch: 190, Time: 36.17543911933899, Loss: 0.3059818143645922, Error: 8.511665344238281%, lr: 1.5036432991085874e-05\n"
     ]
    }
   ],
   "source": [
    "start = time.time()\n",
    "\n",
    "lr = 0.05 # initial learning rate\n",
    "\n",
    "for epoch in range(200):\n",
    "    \n",
    "    # learning rate strategy : divide the learning rate by 1.5 every 10 epochs\n",
    "    if epoch % 10 == 0:\n",
    "        lr = lr / 1.5\n",
    "        \n",
    "    # create a new optimizer at the beginning of each epoch: give the current learning rate\n",
    "    optimizer = torch.optim.SGD(net.parameters(), lr=lr)\n",
    "    \n",
    "    running_loss = 0\n",
    "    running_error = 0\n",
    "    num_batches = 0\n",
    "    \n",
    "    shuffled_indices = torch.randperm(60000)\n",
    "    \n",
    "    for i in range(0, 60000, bs):\n",
    "        \n",
    "        # forward and backward pass\n",
    "        optimizer.zero_grad()\n",
    "        \n",
    "        indices = shuffled_indices[i : i+bs]\n",
    "        minibatch_data = train_data[indices]\n",
    "        minibatch_labels = train_label[indices]\n",
    "        \n",
    "        inputs = minibatch_data.view(bs, -1)\n",
    "        inputs.requires_grad_()\n",
    "        \n",
    "        scores = net(inputs)\n",
    "        loss = criterion(scores, minibatch_labels)\n",
    "        loss.backward()\n",
    "        optimizer.step()\n",
    "        \n",
    "        # compute some stats\n",
    "        running_loss += loss.detach().item()\n",
    "        error = utils.get_error(scores.detach(), minibatch_labels)\n",
    "        running_error += error\n",
    "        num_batches += 1\n",
    "        \n",
    "    # once the epoch is finished we divide the \"running quantities\"\n",
    "    # by the number of batches\n",
    "    total_loss = running_loss / num_batches\n",
    "    total_error = running_error / num_batches\n",
    "    elapsed_time = time.time() - start\n",
    "    \n",
    "    # every 10 epoch we display the stats \n",
    "    # and compute the error rate on the test set \n",
    "    if epoch % 10 == 0:\n",
    "        print(\" \")\n",
    "        print(\"Epoch: {}, Time: {}, Loss: {}, Error: {}%, lr: {}\".format(\n",
    "            epoch, elapsed_time, total_loss, total_error*100, lr))\n",
    "        "
   ]
  },
  {
   "cell_type": "markdown",
   "metadata": {},
   "source": [
    "### Choose an image at random from the test set and see how good/bad are the predictions"
   ]
  },
  {
   "cell_type": "code",
   "execution_count": 10,
   "metadata": {},
   "outputs": [
    {
     "data": {
      "image/png": "[encoded data removed]",
      "text/plain": [
       "<matplotlib.figure.Figure at 0x7fbe73726080>"
      ]
     },
     "metadata": {},
     "output_type": "display_data"
    }
   ],
   "source": [
    "idx = randint(0, 10000-1)\n",
    "im = test_data[idx]\n",
    "\n",
    "utils.show(im)"
   ]
  },
  {
   "cell_type": "code",
   "execution_count": 12,
   "metadata": {},
   "outputs": [
    {
     "data": {
      "image/png": "[encoded data removed]",
      "text/plain": [
       "<matplotlib.figure.Figure at 0x7fbe755f4358>"
      ]
     },
     "metadata": {},
     "output_type": "display_data"
    }
   ],
   "source": [
    "scores = net(im.view(1, -1))\n",
    "probs = F.softmax(scores, dim=1)\n",
    "\n",
    "utils.show_prob_mnist(probs)"
   ]
  },
  {
   "cell_type": "code",
   "execution_count": 13,
   "metadata": {},
   "outputs": [
    {
     "data": {
      "text/plain": [
       "tensor(2)"
      ]
     },
     "execution_count": 13,
     "metadata": {},
     "output_type": "execute_result"
    }
   ],
   "source": [
    "test_label[idx]"
   ]
  }
 ],
 "metadata": {
  "kernelspec": {
   "display_name": "Python 3",
   "language": "python",
   "name": "python3"
  },
  "language_info": {
   "codemirror_mode": {
    "name": "ipython",
    "version": 3
   },
   "file_extension": ".py",
   "mimetype": "text/x-python",
   "name": "python",
   "nbconvert_exporter": "python",
   "pygments_lexer": "ipython3",
   "version": "3.6.9"
  }
 },
 "nbformat": 4,
 "nbformat_minor": 2
}
