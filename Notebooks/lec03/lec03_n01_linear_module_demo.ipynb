{
 "cells": [
  {
   "cell_type": "markdown",
   "metadata": {},
   "source": [
    "# Lab 01 : Linear Module - Demo"
   ]
  },
  {
   "cell_type": "code",
   "execution_count": 1,
   "metadata": {
    "collapsed": true
   },
   "outputs": [],
   "source": [
    "import torch\n",
    "import torch.nn as nn"
   ]
  },
  {
   "cell_type": "markdown",
   "metadata": {},
   "source": [
    "### Make a Linear Module that takes input of size 5 and return output of size 3"
   ]
  },
  {
   "cell_type": "code",
   "execution_count": 2,
   "metadata": {},
   "outputs": [
    {
     "data": {
      "text/plain": [
       "Linear(in_features=5, out_features=3, bias=True)"
      ]
     },
     "execution_count": 2,
     "metadata": {},
     "output_type": "execute_result"
    }
   ],
   "source": [
    "mod = nn.Linear(5, 3)\n",
    "mod"
   ]
  },
  {
   "cell_type": "markdown",
   "metadata": {},
   "source": [
    "### Let's make a random tensor of size 5:"
   ]
  },
  {
   "cell_type": "code",
   "execution_count": 4,
   "metadata": {},
   "outputs": [
    {
     "data": {
      "text/plain": [
       "(tensor([0.3001, 0.6890, 0.6276, 0.2028, 0.7271]), torch.Size([5]))"
      ]
     },
     "execution_count": 4,
     "metadata": {},
     "output_type": "execute_result"
    }
   ],
   "source": [
    "x = torch.rand(5)\n",
    "x, x.size()"
   ]
  },
  {
   "cell_type": "markdown",
   "metadata": {},
   "source": [
    "### Feed it to the module:"
   ]
  },
  {
   "cell_type": "code",
   "execution_count": 6,
   "metadata": {},
   "outputs": [
    {
     "data": {
      "text/plain": [
       "tensor([0.7051, 0.0112, 0.2546], grad_fn=<AddBackward0>)"
      ]
     },
     "execution_count": 6,
     "metadata": {},
     "output_type": "execute_result"
    }
   ],
   "source": [
    "y = mod(x)\n",
    "y"
   ]
  },
  {
   "cell_type": "markdown",
   "metadata": {},
   "source": [
    "### The output y is computed according to the formula:\n",
    "$$\n",
    "\\begin{bmatrix}\n",
    "y_1\\\\ y_2 \\\\y_3 \n",
    "\\end{bmatrix} =\n",
    "\\begin{bmatrix}\n",
    "w_{11} & w_{12} & w_{13}& w_{14}& w_{15} \\\\\n",
    "w_{21} & w_{22} & w_{23}& w_{24}& w_{25} \\\\\n",
    "w_{31} & w_{32} & w_{33}& w_{34}& w_{35} \\\\\n",
    "\\end{bmatrix}\n",
    "\\begin{bmatrix}\n",
    "x_1\\\\ x_2 \\\\x_3 \\\\ x_4 \\\\x_5\n",
    "\\end{bmatrix}\n",
    "+\n",
    "\\begin{bmatrix}\n",
    "b_1\\\\ b_2 \\\\b_3 \n",
    "\\end{bmatrix}\n",
    "$$\n",
    "### were the $w_{ij}$'s are the weight parameters and the $b_i$'s are the bias parameters. These internal parameters can be access as follow:"
   ]
  },
  {
   "cell_type": "code",
   "execution_count": 7,
   "metadata": {},
   "outputs": [
    {
     "name": "stdout",
     "output_type": "stream",
     "text": [
      "weights: Parameter containing:\n",
      "tensor([[ 0.2388, -0.2528,  0.0423,  0.2701,  0.3878],\n",
      "        [-0.4414,  0.2083, -0.3033,  0.4112,  0.2313],\n",
      "        [ 0.3448,  0.3303,  0.1601,  0.2697,  0.0196]], requires_grad=True)\n"
     ]
    }
   ],
   "source": [
    "print('weights:', mod.weight)"
   ]
  },
  {
   "cell_type": "code",
   "execution_count": 8,
   "metadata": {},
   "outputs": [
    {
     "name": "stdout",
     "output_type": "stream",
     "text": [
      "bias: Parameter containing:\n",
      "tensor([ 0.4443, -0.0611, -0.2458], requires_grad=True)\n"
     ]
    }
   ],
   "source": [
    "print('bias:', mod.bias)"
   ]
  },
  {
   "cell_type": "markdown",
   "metadata": {},
   "source": [
    "### If we want we can change the internal parameters of the module:"
   ]
  },
  {
   "cell_type": "code",
   "execution_count": 9,
   "metadata": {},
   "outputs": [
    {
     "name": "stdout",
     "output_type": "stream",
     "text": [
      "Parameter containing:\n",
      "tensor([[ 0.0000,  1.0000,  2.0000,  0.2701,  0.3878],\n",
      "        [-0.4414,  0.2083, -0.3033,  0.4112,  0.2313],\n",
      "        [ 0.3448,  0.3303,  0.1601,  0.2697,  0.0196]], grad_fn=<CopySlices>)\n"
     ]
    }
   ],
   "source": [
    "mod.weight[0, 0] = 0\n",
    "mod.weight[0, 1] = 1\n",
    "mod.weight[0, 2] = 2\n",
    "\n",
    "print(mod.weight)"
   ]
  },
  {
   "cell_type": "markdown",
   "metadata": {},
   "source": [
    "### We can also make a Linear module without bias:"
   ]
  },
  {
   "cell_type": "code",
   "execution_count": 10,
   "metadata": {},
   "outputs": [
    {
     "data": {
      "text/plain": [
       "Linear(in_features=5, out_features=3, bias=False)"
      ]
     },
     "execution_count": 10,
     "metadata": {},
     "output_type": "execute_result"
    }
   ],
   "source": [
    "mod2 = nn.Linear(5, 3, bias=False)\n",
    "mod2"
   ]
  },
  {
   "cell_type": "code",
   "execution_count": 11,
   "metadata": {},
   "outputs": [
    {
     "data": {
      "text/plain": [
       "Parameter containing:\n",
       "tensor([[-0.0077, -0.4439, -0.2157,  0.3983, -0.4386],\n",
       "        [ 0.3129, -0.3314, -0.0730,  0.1670, -0.1825],\n",
       "        [ 0.0503,  0.3150, -0.4449, -0.0413, -0.2236]], requires_grad=True)"
      ]
     },
     "execution_count": 11,
     "metadata": {},
     "output_type": "execute_result"
    }
   ],
   "source": [
    "mod2.weight"
   ]
  },
  {
   "cell_type": "code",
   "execution_count": 13,
   "metadata": {},
   "outputs": [
    {
     "name": "stdout",
     "output_type": "stream",
     "text": [
      "None\n"
     ]
    }
   ],
   "source": [
    "print(mod2.bias)"
   ]
  }
 ],
 "metadata": {
  "kernelspec": {
   "display_name": "Python 3",
   "language": "python",
   "name": "python3"
  },
  "language_info": {
   "codemirror_mode": {
    "name": "ipython",
    "version": 3
   },
   "file_extension": ".py",
   "mimetype": "text/x-python",
   "name": "python",
   "nbconvert_exporter": "python",
   "pygments_lexer": "ipython3",
   "version": "3.6.9"
  }
 },
 "nbformat": 4,
 "nbformat_minor": 2
}
