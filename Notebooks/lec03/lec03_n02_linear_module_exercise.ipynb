{
 "cells": [
  {
   "cell_type": "markdown",
   "metadata": {},
   "source": [
    "# Lab 01 : Linear Module - Exercise\n",
    "## Inspecting a linear module"
   ]
  },
  {
   "cell_type": "code",
   "execution_count": 1,
   "metadata": {
    "collapsed": true
   },
   "outputs": [],
   "source": [
    "import torch\n",
    "import torch.nn as nn\n",
    "import torch.nn.functional as F"
   ]
  },
  {
   "cell_type": "markdown",
   "metadata": {},
   "source": [
    "### Q1: Make a linear module  WITHOUT bias that takes input of size 2 and return output of size 3. "
   ]
  },
  {
   "cell_type": "code",
   "execution_count": 2,
   "metadata": {},
   "outputs": [
    {
     "data": {
      "text/plain": [
       "Linear(in_features=2, out_features=3, bias=False)"
      ]
     },
     "execution_count": 2,
     "metadata": {},
     "output_type": "execute_result"
    }
   ],
   "source": [
    "mod = nn.Linear(2, 3, bias=False)\n",
    "mod"
   ]
  },
  {
   "cell_type": "markdown",
   "metadata": {},
   "source": [
    "### Q2: Print the internal parameters of the module. Try to print the bias and double check that it return you \"None\""
   ]
  },
  {
   "cell_type": "code",
   "execution_count": 3,
   "metadata": {},
   "outputs": [
    {
     "name": "stdout",
     "output_type": "stream",
     "text": [
      "Parameter containing:\n",
      "tensor([[ 0.4980,  0.5215],\n",
      "        [ 0.4049, -0.0878],\n",
      "        [ 0.0307, -0.0655]], requires_grad=True)\n",
      "None\n"
     ]
    }
   ],
   "source": [
    "print(mod.weight)\n",
    "print(mod.bias)"
   ]
  },
  {
   "cell_type": "markdown",
   "metadata": {},
   "source": [
    "### Q3: Make a vector $x=\\begin{bmatrix}1\\\\1 \\end{bmatrix}$ and feed it to your linear module. What is the output?"
   ]
  },
  {
   "cell_type": "code",
   "execution_count": 6,
   "metadata": {},
   "outputs": [
    {
     "data": {
      "text/plain": [
       "tensor([1., 1.])"
      ]
     },
     "execution_count": 6,
     "metadata": {},
     "output_type": "execute_result"
    }
   ],
   "source": [
    "x = torch.Tensor([1, 1])\n",
    "x"
   ]
  },
  {
   "cell_type": "code",
   "execution_count": 7,
   "metadata": {},
   "outputs": [
    {
     "data": {
      "text/plain": [
       "tensor([ 1.0195,  0.3171, -0.0348], grad_fn=<SqueezeBackward3>)"
      ]
     },
     "execution_count": 7,
     "metadata": {},
     "output_type": "execute_result"
    }
   ],
   "source": [
    "y = mod(x)\n",
    "y"
   ]
  },
  {
   "cell_type": "markdown",
   "metadata": {},
   "source": [
    "### Q4: Change the internal parameters of your module so that the weights become $\n",
    "W=\\begin{bmatrix}\n",
    "1&2 \\\\ 3&4 \\\\ 5&6\n",
    "\\end{bmatrix}\n",
    "$. You need to write 6 lines, one per entry to be changed."
   ]
  },
  {
   "cell_type": "code",
   "execution_count": 8,
   "metadata": {},
   "outputs": [
    {
     "name": "stdout",
     "output_type": "stream",
     "text": [
      "Parameter containing:\n",
      "tensor([[1., 2.],\n",
      "        [3., 4.],\n",
      "        [5., 6.]], grad_fn=<CopySlices>)\n"
     ]
    }
   ],
   "source": [
    "mod.weight[0, 0] = 1\n",
    "mod.weight[0, 1] = 2\n",
    "mod.weight[1, 0] = 3\n",
    "mod.weight[1, 1] = 4\n",
    "mod.weight[2, 0] = 5\n",
    "mod.weight[2, 1] = 6\n",
    "\n",
    "print(mod.weight)"
   ]
  },
  {
   "cell_type": "markdown",
   "metadata": {},
   "source": [
    "### Q5: Feed the vector $x$ to your module with updated parameters. What is the output? "
   ]
  },
  {
   "cell_type": "code",
   "execution_count": 9,
   "metadata": {},
   "outputs": [
    {
     "data": {
      "text/plain": [
       "tensor([ 3.,  7., 11.], grad_fn=<SqueezeBackward3>)"
      ]
     },
     "execution_count": 9,
     "metadata": {},
     "output_type": "execute_result"
    }
   ],
   "source": [
    "y2 = mod(x)\n",
    "y2"
   ]
  },
  {
   "cell_type": "markdown",
   "metadata": {},
   "source": [
    "### Compute by hand $y=Wx$ and check that pytorch got it correctly. \n",
    "\n",
    "$$\n",
    "\\begin{bmatrix}\n",
    "1&2 \\\\ 3&4 \\\\ 5&6\n",
    "\\end{bmatrix}\n",
    "\\begin{bmatrix}1\\\\1 \\end{bmatrix}=\n",
    "\\begin{bmatrix}?\\\\? \\\\ ? \\end{bmatrix}\n",
    "$$"
   ]
  }
 ],
 "metadata": {
  "kernelspec": {
   "display_name": "Python 3",
   "language": "python",
   "name": "python3"
  },
  "language_info": {
   "codemirror_mode": {
    "name": "ipython",
    "version": 3
   },
   "file_extension": ".py",
   "mimetype": "text/x-python",
   "name": "python",
   "nbconvert_exporter": "python",
   "pygments_lexer": "ipython3",
   "version": "3.6.9"
  }
 },
 "nbformat": 4,
 "nbformat_minor": 2
}
