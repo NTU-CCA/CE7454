{
 "cells": [
  {
   "cell_type": "markdown",
   "metadata": {},
   "source": [
    "# Lab 03 : Vanilla Neural Networks - Exercise\n",
    "\n",
    "## Creating a one-layer network"
   ]
  },
  {
   "cell_type": "code",
   "execution_count": 1,
   "metadata": {
    "collapsed": true
   },
   "outputs": [],
   "source": [
    "import torch\n",
    "import torch.nn as nn\n",
    "import torch.nn.functional as F"
   ]
  },
  {
   "cell_type": "markdown",
   "metadata": {},
   "source": [
    "### Q1: Make a class for a one layer network. Let's call the layer \"mylayer\". And let's give it a bias."
   ]
  },
  {
   "cell_type": "code",
   "execution_count": 2,
   "metadata": {
    "collapsed": true
   },
   "outputs": [],
   "source": [
    "class one_layer_net(nn.Module):\n",
    "    \n",
    "    def __init__(self, input_size, output_size):\n",
    "        super(one_layer_net, self).__init__()\n",
    "        self.mylayer = nn.Linear(input_size, output_size, bias=True)\n",
    "        \n",
    "    def forward(self, x):\n",
    "        x = self.mylayer(x)\n",
    "        p = F.softmax(x, dim=0)\n",
    "        return p"
   ]
  },
  {
   "cell_type": "markdown",
   "metadata": {},
   "source": [
    "### Q2: Create an instance of a one layer net that take input of size 2 and return output of size 2"
   ]
  },
  {
   "cell_type": "code",
   "execution_count": 3,
   "metadata": {},
   "outputs": [
    {
     "name": "stdout",
     "output_type": "stream",
     "text": [
      "one_layer_net(\n",
      "  (mylayer): Linear(in_features=2, out_features=2, bias=True)\n",
      ")\n"
     ]
    }
   ],
   "source": [
    "net = one_layer_net(2, 2)\n",
    "print(net)"
   ]
  },
  {
   "cell_type": "markdown",
   "metadata": {},
   "source": [
    "### Q3: Make a vector $x=\\begin{bmatrix}1\\\\1 \\end{bmatrix}$ and feed it to the network. What is the output probability?"
   ]
  },
  {
   "cell_type": "code",
   "execution_count": 4,
   "metadata": {
    "collapsed": true
   },
   "outputs": [],
   "source": [
    "x = torch.Tensor([1, 1])"
   ]
  },
  {
   "cell_type": "code",
   "execution_count": 5,
   "metadata": {},
   "outputs": [
    {
     "data": {
      "text/plain": [
       "tensor([0.3370, 0.6630], grad_fn=<SoftmaxBackward>)"
      ]
     },
     "execution_count": 5,
     "metadata": {},
     "output_type": "execute_result"
    }
   ],
   "source": [
    "p = net(x)\n",
    "p"
   ]
  },
  {
   "cell_type": "markdown",
   "metadata": {},
   "source": [
    "### Q4: Print the weights as well as the bias of the unique layer of this network. Be careful to use the correct name for this unique layer "
   ]
  },
  {
   "cell_type": "code",
   "execution_count": 6,
   "metadata": {},
   "outputs": [
    {
     "name": "stdout",
     "output_type": "stream",
     "text": [
      "Parameter containing:\n",
      "tensor([[-0.6532, -0.1584],\n",
      "        [ 0.3704, -0.3869]], requires_grad=True)\n",
      "Parameter containing:\n",
      "tensor([ 0.0362, -0.0820], requires_grad=True)\n"
     ]
    }
   ],
   "source": [
    "print(net.mylayer.weight)\n",
    "print(net.mylayer.bias)"
   ]
  },
  {
   "cell_type": "markdown",
   "metadata": {},
   "source": [
    "### Q5: Change the internal parameters of your network so that the weights are now equal to $\n",
    "W=\\begin{bmatrix}\n",
    "1&2 \\\\ 3&4 \n",
    "\\end{bmatrix}\n",
    "$ and the bias is equal to  $\n",
    "b=\\begin{bmatrix}\n",
    "1 \\\\ 1 \n",
    "\\end{bmatrix}\n",
    "$ "
   ]
  },
  {
   "cell_type": "code",
   "execution_count": 7,
   "metadata": {},
   "outputs": [
    {
     "name": "stdout",
     "output_type": "stream",
     "text": [
      "Parameter containing:\n",
      "tensor([[1., 2.],\n",
      "        [3., 4.]], grad_fn=<CopySlices>)\n",
      "Parameter containing:\n",
      "tensor([1., 1.], grad_fn=<CopySlices>)\n"
     ]
    }
   ],
   "source": [
    "net.mylayer.weight[0, 0] = 1\n",
    "net.mylayer.weight[0, 1] = 2\n",
    "net.mylayer.weight[1, 0] = 3\n",
    "net.mylayer.weight[1, 1] = 4\n",
    "\n",
    "net.mylayer.bias[0] = 1\n",
    "net.mylayer.bias[1] = 1\n",
    "\n",
    "print(net.mylayer.weight)\n",
    "print(net.mylayer.bias)"
   ]
  },
  {
   "cell_type": "markdown",
   "metadata": {},
   "source": [
    "### Q6: Feed the vector x to your network with updated parameters. What is the output? (you should get `p = [2% 98%]`)"
   ]
  },
  {
   "cell_type": "code",
   "execution_count": 8,
   "metadata": {},
   "outputs": [
    {
     "data": {
      "text/plain": [
       "tensor([0.0180, 0.9820], grad_fn=<SoftmaxBackward>)"
      ]
     },
     "execution_count": 8,
     "metadata": {},
     "output_type": "execute_result"
    }
   ],
   "source": [
    "p = net(x)\n",
    "p"
   ]
  }
 ],
 "metadata": {
  "kernelspec": {
   "display_name": "Python 3",
   "language": "python",
   "name": "python3"
  },
  "language_info": {
   "codemirror_mode": {
    "name": "ipython",
    "version": 3
   },
   "file_extension": ".py",
   "mimetype": "text/x-python",
   "name": "python",
   "nbconvert_exporter": "python",
   "pygments_lexer": "ipython3",
   "version": "3.6.9"
  }
 },
 "nbformat": 4,
 "nbformat_minor": 2
}
