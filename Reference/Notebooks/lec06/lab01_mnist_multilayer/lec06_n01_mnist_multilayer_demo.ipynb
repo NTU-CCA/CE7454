{
 "cells": [
  {
   "cell_type": "markdown",
   "metadata": {},
   "source": [
    "# Lab 01: MNIST Multi-Layer - Demo"
   ]
  },
  {
   "cell_type": "code",
   "execution_count": 1,
   "metadata": {
    "collapsed": true
   },
   "outputs": [],
   "source": [
    "import torch\n",
    "import torch.nn as nn\n",
    "import torch.nn.functional as F\n",
    "import torch.optim as optim\n",
    "from random import randint\n",
    "import time\n",
    "import utils"
   ]
  },
  {
   "cell_type": "markdown",
   "metadata": {},
   "source": [
    "### Download the data"
   ]
  },
  {
   "cell_type": "code",
   "execution_count": 2,
   "metadata": {
    "collapsed": true
   },
   "outputs": [],
   "source": [
    "data_path = \"/Users/dongdongdongdong/Desktop/data/mnist\"\n",
    "\n",
    "train_data = torch.load(data_path + \"/train_data.pt\")\n",
    "train_label = torch.load(data_path + \"/train_label.pt\")\n",
    "test_data = torch.load(data_path + \"/test_data.pt\")\n",
    "test_label = torch.load(data_path + \"/test_label.pt\")"
   ]
  },
  {
   "cell_type": "markdown",
   "metadata": {},
   "source": [
    "### Make a two layer net class"
   ]
  },
  {
   "cell_type": "code",
   "execution_count": 3,
   "metadata": {
    "collapsed": true
   },
   "outputs": [],
   "source": [
    "class two_layer_net(nn.Module):\n",
    "    \n",
    "    def __init__(self, input_size, hidden_size, output_size):\n",
    "        super(two_layer_net, self).__init__()\n",
    "        self.layer1 = nn.Linear(input_size, hidden_size, bias=False)\n",
    "        self.layer2 = nn.Linear(hidden_size, output_size, bias=False)\n",
    "        \n",
    "    def forward(self, x):\n",
    "        y = self.layer1(x)\n",
    "        y_hat = F.relu(y)\n",
    "        scores = self.layer2(y_hat)\n",
    "        return scores"
   ]
  },
  {
   "cell_type": "markdown",
   "metadata": {},
   "source": [
    "### Build the net (recall that a one layer net had 7,840 parameters)"
   ]
  },
  {
   "cell_type": "code",
   "execution_count": 4,
   "metadata": {},
   "outputs": [
    {
     "name": "stdout",
     "output_type": "stream",
     "text": [
      "two_layer_net(\n",
      "  (layer1): Linear(in_features=784, out_features=50, bias=False)\n",
      "  (layer2): Linear(in_features=50, out_features=10, bias=False)\n",
      ")\n"
     ]
    }
   ],
   "source": [
    "net = two_layer_net(784, 50, 10)\n",
    "print(net)"
   ]
  },
  {
   "cell_type": "code",
   "execution_count": 5,
   "metadata": {},
   "outputs": [
    {
     "name": "stdout",
     "output_type": "stream",
     "text": [
      "There are 39700 (0.04 million) parameters in this neural network\n"
     ]
    }
   ],
   "source": [
    "utils.display_num_param(net)"
   ]
  },
  {
   "cell_type": "markdown",
   "metadata": {},
   "source": [
    "### Choose the criterion, optimizer, batchsize, learning rate"
   ]
  },
  {
   "cell_type": "code",
   "execution_count": 6,
   "metadata": {
    "collapsed": true
   },
   "outputs": [],
   "source": [
    "criterion = nn.CrossEntropyLoss()\n",
    "\n",
    "optimizer = torch.optim.SGD(net.parameters(), lr=0.01)\n",
    "\n",
    "bs = 20"
   ]
  },
  {
   "cell_type": "markdown",
   "metadata": {},
   "source": [
    "### Evaluate on test set"
   ]
  },
  {
   "cell_type": "code",
   "execution_count": 7,
   "metadata": {
    "collapsed": true
   },
   "outputs": [],
   "source": [
    "def eval_on_test_set():\n",
    "    \n",
    "    running_error = 0\n",
    "    num_batches = 0\n",
    "    \n",
    "    for i in range(0, 10000, bs):\n",
    "        minibatch_data = test_data[i : i+bs]\n",
    "        minibatch_labels = test_label[i : i+bs]\n",
    "        \n",
    "        inputs = minibatch_data.view(bs, -1)\n",
    "        scores = net(inputs)\n",
    "        \n",
    "        error = utils.get_error(scores, minibatch_labels)\n",
    "        running_error += error.item()\n",
    "        num_batches += 1\n",
    "    \n",
    "    total_error = running_error / num_batches\n",
    "    print(\"Error rate on test set: {}%\".format(total_error*100))"
   ]
  },
  {
   "cell_type": "markdown",
   "metadata": {},
   "source": [
    "### Training loop"
   ]
  },
  {
   "cell_type": "code",
   "execution_count": 8,
   "metadata": {},
   "outputs": [
    {
     "name": "stdout",
     "output_type": "stream",
     "text": [
      " \n",
      "Epoch: 0, Time: 1.6465659141540527, Loss: 0.43768030434971056, Error: 11.834939956665039%, lr: 0.03333333333333333\n",
      " \n",
      "Epoch: 10, Time: 18.336255073547363, Loss: 0.07263785636108756, Error: 2.024982452392578%, lr: 0.022222222222222223\n",
      " \n",
      "Epoch: 20, Time: 35.507450103759766, Loss: 0.04492255114922106, Error: 1.178327202796936%, lr: 0.014814814814814815\n",
      " \n",
      "Epoch: 30, Time: 53.75893306732178, Loss: 0.033806897765365045, Error: 0.8199977874755859%, lr: 0.009876543209876543\n",
      " \n",
      "Epoch: 40, Time: 71.86100888252258, Loss: 0.028067953595052434, Error: 0.5850008130073547%, lr: 0.006584362139917695\n",
      " \n",
      "Epoch: 50, Time: 92.1062421798706, Loss: 0.024845822861835284, Error: 0.48000115156173706%, lr: 0.0043895747599451305\n",
      " \n",
      "Epoch: 60, Time: 110.49880003929138, Loss: 0.022941505554384397, Error: 0.4050008952617645%, lr: 0.0029263831732967535\n",
      " \n",
      "Epoch: 70, Time: 127.49697518348694, Loss: 0.02177115307309335, Error: 0.36000072956085205%, lr: 0.001950922115531169\n",
      " \n",
      "Epoch: 80, Time: 145.5133011341095, Loss: 0.02102015604606519, Error: 0.34333398938179016%, lr: 0.001300614743687446\n",
      " \n",
      "Epoch: 90, Time: 163.3628580570221, Loss: 0.02054972111719932, Error: 0.33833396434783936%, lr: 0.0008670764957916306\n",
      " \n",
      "Epoch: 100, Time: 181.30419898033142, Loss: 0.020243246078748296, Error: 0.3316672742366791%, lr: 0.0005780509971944203\n",
      " \n",
      "Epoch: 110, Time: 197.21938705444336, Loss: 0.020039440014525706, Error: 0.32833394408226013%, lr: 0.0003853673314629469\n",
      " \n",
      "Epoch: 120, Time: 213.04210996627808, Loss: 0.01989960657090948, Error: 0.3200005888938904%, lr: 0.00025691155430863124\n",
      " \n",
      "Epoch: 130, Time: 228.89856004714966, Loss: 0.01981074702248831, Error: 0.31833386421203613%, lr: 0.0001712743695390875\n",
      " \n",
      "Epoch: 140, Time: 244.63578510284424, Loss: 0.01975019825076985, Error: 0.3183339536190033%, lr: 0.00011418291302605833\n",
      " \n",
      "Epoch: 150, Time: 260.5092523097992, Loss: 0.019710617454979606, Error: 0.31833380460739136%, lr: 7.612194201737223e-05\n",
      " \n",
      "Epoch: 160, Time: 276.25897097587585, Loss: 0.01968376882551335, Error: 0.31666722893714905%, lr: 5.074796134491482e-05\n",
      " \n",
      "Epoch: 170, Time: 292.08846712112427, Loss: 0.019666215609021796, Error: 0.3166672885417938%, lr: 3.3831974229943214e-05\n",
      " \n",
      "Epoch: 180, Time: 307.88808012008667, Loss: 0.019654534984798376, Error: 0.31666722893714905%, lr: 2.255464948662881e-05\n",
      " \n",
      "Epoch: 190, Time: 323.83828616142273, Loss: 0.019646802911808967, Error: 0.31500059366226196%, lr: 1.5036432991085874e-05\n"
     ]
    }
   ],
   "source": [
    "start = time.time()\n",
    "\n",
    "lr = 0.05 # initial learning rate\n",
    "\n",
    "for epoch in range(200):\n",
    "    \n",
    "    # learning rate strategy : divide the learning rate by 1.5 every 10 epochs\n",
    "    if epoch % 10 == 0:\n",
    "        lr = lr / 1.5\n",
    "        \n",
    "    # create a new optimizer at the beginning of each epoch: give the current learning rate\n",
    "    optimizer = torch.optim.SGD(net.parameters(), lr=lr)\n",
    "    \n",
    "    running_loss = 0\n",
    "    running_error = 0\n",
    "    num_batches = 0\n",
    "    \n",
    "    shuffled_indices = torch.randperm(60000)\n",
    "    \n",
    "    for i in range(0, 60000, bs):\n",
    "        \n",
    "        # forward and backward pass\n",
    "        optimizer.zero_grad()\n",
    "        \n",
    "        indices = shuffled_indices[i : i+bs]\n",
    "        minibatch_data = train_data[indices]\n",
    "        minibatch_labels = train_label[indices]\n",
    "        \n",
    "        inputs = minibatch_data.view(bs, -1)\n",
    "        inputs.requires_grad_()\n",
    "        \n",
    "        scores = net(inputs)\n",
    "        loss = criterion(scores, minibatch_labels)\n",
    "        loss.backward()\n",
    "        optimizer.step()\n",
    "        \n",
    "        # compute some stats\n",
    "        running_loss += loss.detach().item()\n",
    "        error = utils.get_error(scores.detach(), minibatch_labels)\n",
    "        running_error += error\n",
    "        num_batches += 1\n",
    "        \n",
    "    # once the epoch is finished we divide the \"running quantities\"\n",
    "    # by the number of batches\n",
    "    total_loss = running_loss / num_batches\n",
    "    total_error = running_error / num_batches\n",
    "    elapsed_time = time.time() - start\n",
    "    \n",
    "    # every 10 epoch we display the stats \n",
    "    # and compute the error rate on the test set \n",
    "    if epoch % 10 == 0:\n",
    "        print(\" \")\n",
    "        print(\"Epoch: {}, Time: {}, Loss: {}, Error: {}%, lr: {}\".format(\n",
    "            epoch, elapsed_time, total_loss, total_error*100, lr))\n",
    "        "
   ]
  },
  {
   "cell_type": "markdown",
   "metadata": {},
   "source": [
    "### Choose image at random from the test set and see how good/bad are the predictions"
   ]
  },
  {
   "cell_type": "code",
   "execution_count": 9,
   "metadata": {},
   "outputs": [
    {
     "data": {
      "image/png": "[encoded data removed]",
      "text/plain": [
       "<matplotlib.figure.Figure at 0x7fc9818d77f0>"
      ]
     },
     "metadata": {},
     "output_type": "display_data"
    }
   ],
   "source": [
    "idx = randint(0, 10000-1)\n",
    "im = test_data[idx]\n",
    "\n",
    "utils.show(im)"
   ]
  },
  {
   "cell_type": "code",
   "execution_count": 10,
   "metadata": {},
   "outputs": [
    {
     "data": {
      "image/png": "[encoded data removed]",
      "text/plain": [
       "<matplotlib.figure.Figure at 0x7fc982028c18>"
      ]
     },
     "metadata": {},
     "output_type": "display_data"
    }
   ],
   "source": [
    "scores = net(im.view(1, -1))\n",
    "probs = F.softmax(scores, dim=1)\n",
    "\n",
    "utils.show_prob_mnist(probs)"
   ]
  },
  {
   "cell_type": "code",
   "execution_count": 11,
   "metadata": {},
   "outputs": [
    {
     "data": {
      "text/plain": [
       "tensor(2)"
      ]
     },
     "execution_count": 11,
     "metadata": {},
     "output_type": "execute_result"
    }
   ],
   "source": [
    "test_label[idx]"
   ]
  }
 ],
 "metadata": {
  "kernelspec": {
   "display_name": "Python 3",
   "language": "python",
   "name": "python3"
  },
  "language_info": {
   "codemirror_mode": {
    "name": "ipython",
    "version": 3
   },
   "file_extension": ".py",
   "mimetype": "text/x-python",
   "name": "python",
   "nbconvert_exporter": "python",
   "pygments_lexer": "ipython3",
   "version": "3.6.9"
  }
 },
 "nbformat": 4,
 "nbformat_minor": 2
}
