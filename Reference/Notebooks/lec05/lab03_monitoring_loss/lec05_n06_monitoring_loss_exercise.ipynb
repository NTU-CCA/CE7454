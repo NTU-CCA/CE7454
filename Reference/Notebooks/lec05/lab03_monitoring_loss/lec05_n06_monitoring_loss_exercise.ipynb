{
 "cells": [
  {
   "cell_type": "markdown",
   "metadata": {},
   "source": [
    "# Lab 03: Loss and Error Rate - Exercise"
   ]
  },
  {
   "cell_type": "code",
   "execution_count": 1,
   "metadata": {
    "collapsed": true
   },
   "outputs": [],
   "source": [
    "import torch\n",
    "import torch.nn as nn\n",
    "import torch.nn.functional as F\n",
    "import torch.optim as optim\n",
    "from random import randint\n",
    "import utils"
   ]
  },
  {
   "cell_type": "markdown",
   "metadata": {},
   "source": [
    "### Download the CIFAR dataset -- check the size carefully! "
   ]
  },
  {
   "cell_type": "code",
   "execution_count": 2,
   "metadata": {
    "collapsed": true
   },
   "outputs": [],
   "source": [
    "data_path = \"/Users/dongdongdongdong/Desktop/data/cifar\"\n",
    "\n",
    "train_data = torch.load(data_path + \"/train_data.pt\")\n",
    "train_label = torch.load(data_path + \"/train_label.pt\")\n",
    "test_data = torch.load(data_path + \"/test_data.pt\")\n",
    "test_label = torch.load(data_path + \"/test_label.pt\")"
   ]
  },
  {
   "cell_type": "code",
   "execution_count": 3,
   "metadata": {},
   "outputs": [
    {
     "data": {
      "text/plain": [
       "(torch.Size([50000, 3, 32, 32]), torch.Size([50000]))"
      ]
     },
     "execution_count": 3,
     "metadata": {},
     "output_type": "execute_result"
    }
   ],
   "source": [
    "train_data.shape, train_label.shape"
   ]
  },
  {
   "cell_type": "code",
   "execution_count": 4,
   "metadata": {},
   "outputs": [
    {
     "data": {
      "text/plain": [
       "(torch.Size([10000, 3, 32, 32]), torch.Size([10000]))"
      ]
     },
     "execution_count": 4,
     "metadata": {},
     "output_type": "execute_result"
    }
   ],
   "source": [
    "test_data.shape, test_label.shape"
   ]
  },
  {
   "cell_type": "markdown",
   "metadata": {},
   "source": [
    "### Make a ONE layer net class"
   ]
  },
  {
   "cell_type": "code",
   "execution_count": 5,
   "metadata": {
    "collapsed": true
   },
   "outputs": [],
   "source": [
    "class one_layer_net(nn.Module):\n",
    "\n",
    "    def __init__(self, input_size, output_size):\n",
    "        super(one_layer_net, self).__init__()\n",
    "        self.linear_layer = nn.Linear(input_size, output_size, bias=True)\n",
    "        \n",
    "    def forward(self, x):\n",
    "        scores = self.linear_layer(x)\n",
    "        return scores"
   ]
  },
  {
   "cell_type": "markdown",
   "metadata": {},
   "source": [
    "### Build the net. \n",
    "\n",
    "### We are dealing with RGB pictures that are 3 x 32 x 32 \n",
    "\n",
    "### On picture contains a total of 3 x 32 x 32 = 3072 values"
   ]
  },
  {
   "cell_type": "code",
   "execution_count": 6,
   "metadata": {},
   "outputs": [
    {
     "name": "stdout",
     "output_type": "stream",
     "text": [
      "one_layer_net(\n",
      "  (linear_layer): Linear(in_features=3072, out_features=10, bias=True)\n",
      ")\n"
     ]
    }
   ],
   "source": [
    "net = one_layer_net(3*32*32, 10)\n",
    "print(net)"
   ]
  },
  {
   "cell_type": "markdown",
   "metadata": {},
   "source": [
    "### Choose the criterion and optimizer. Also choose:\n",
    "\n",
    "### batchsize = 20\n",
    "\n",
    "### learning rate = 0.01"
   ]
  },
  {
   "cell_type": "code",
   "execution_count": 7,
   "metadata": {
    "collapsed": true
   },
   "outputs": [],
   "source": [
    "criterion = nn.CrossEntropyLoss()\n",
    "\n",
    "optimizer = torch.optim.SGD(net.parameters(), lr=0.01)\n",
    "\n",
    "bs = 20"
   ]
  },
  {
   "cell_type": "markdown",
   "metadata": {},
   "source": [
    "### Do 40 passes through the training set (which contains 50,000 images -- not 60,000 like mnist!)"
   ]
  },
  {
   "cell_type": "code",
   "execution_count": 8,
   "metadata": {},
   "outputs": [
    {
     "name": "stdout",
     "output_type": "stream",
     "text": [
      "Epoch: 0, Loss: 1.9590717582702637, Error: 0.6960799994707108%\n",
      "Epoch: 1, Loss: 1.863969122505188, Error: 0.6532799997568131%\n",
      "Epoch: 2, Loss: 1.8400932030677795, Error: 0.6423799999237061%\n",
      "Epoch: 3, Loss: 1.8207600347042083, Error: 0.6340400002002716%\n",
      "Epoch: 4, Loss: 1.806612707090378, Error: 0.6289000003814698%\n",
      "Epoch: 5, Loss: 1.7960724976062774, Error: 0.6239799997329712%\n",
      "Epoch: 6, Loss: 1.7891706563472747, Error: 0.6182200003862381%\n",
      "Epoch: 7, Loss: 1.7873125874519349, Error: 0.6212600001573563%\n",
      "Epoch: 8, Loss: 1.7791027079820634, Error: 0.6160800003051757%\n",
      "Epoch: 9, Loss: 1.7784477504253386, Error: 0.6152399996757507%\n",
      "Epoch: 10, Loss: 1.770088053870201, Error: 0.6129799998521804%\n",
      "Epoch: 11, Loss: 1.767017917251587, Error: 0.6118799999475479%\n",
      "Epoch: 12, Loss: 1.764296488571167, Error: 0.610080000114441%\n",
      "Epoch: 13, Loss: 1.7621074593305588, Error: 0.6083600003242493%\n",
      "Epoch: 14, Loss: 1.7539345767736434, Error: 0.6040599998474121%\n",
      "Epoch: 15, Loss: 1.7558527131080628, Error: 0.6051799998283386%\n",
      "Epoch: 16, Loss: 1.7508711942911148, Error: 0.6054799997568131%\n",
      "Epoch: 17, Loss: 1.7493010955572128, Error: 0.605399999833107%\n",
      "Epoch: 18, Loss: 1.7446908326625823, Error: 0.6023199999332428%\n",
      "Epoch: 19, Loss: 1.7454058079004289, Error: 0.6035999996900558%\n",
      "Epoch: 20, Loss: 1.740296351313591, Error: 0.6009200000047684%\n",
      "Epoch: 21, Loss: 1.7439897944450378, Error: 0.6007199996709823%\n",
      "Epoch: 22, Loss: 1.739876143193245, Error: 0.5976800006389618%\n",
      "Epoch: 23, Loss: 1.735585432100296, Error: 0.5979599998950959%\n",
      "Epoch: 24, Loss: 1.7325588991165162, Error: 0.597140000128746%\n",
      "Epoch: 25, Loss: 1.737396093273163, Error: 0.5970199998617173%\n",
      "Epoch: 26, Loss: 1.7357754632472993, Error: 0.5980199996948242%\n",
      "Epoch: 27, Loss: 1.7306246708154678, Error: 0.5964200002670288%\n",
      "Epoch: 28, Loss: 1.7299210757493972, Error: 0.595759999704361%\n",
      "Epoch: 29, Loss: 1.7295617655277251, Error: 0.5976200004339218%\n",
      "Epoch: 30, Loss: 1.7287037813186645, Error: 0.5970400004148483%\n",
      "Epoch: 31, Loss: 1.7248306427001954, Error: 0.5938199999570847%\n",
      "Epoch: 32, Loss: 1.7246387531995773, Error: 0.5912400002479553%\n",
      "Epoch: 33, Loss: 1.7249777007341385, Error: 0.5934599997758865%\n",
      "Epoch: 34, Loss: 1.7224760903596879, Error: 0.5926799998998642%\n",
      "Epoch: 35, Loss: 1.7200374693870544, Error: 0.5925999997377396%\n",
      "Epoch: 36, Loss: 1.7235487811803818, Error: 0.5919800002336502%\n",
      "Epoch: 37, Loss: 1.7210226015329362, Error: 0.5902000005483627%\n",
      "Epoch: 38, Loss: 1.7182836165189743, Error: 0.591440000128746%\n",
      "Epoch: 39, Loss: 1.7207402567386627, Error: 0.5935399996757508%\n"
     ]
    }
   ],
   "source": [
    "for epoch in range(40):\n",
    "    \n",
    "    running_loss = 0.0\n",
    "    running_error = 0\n",
    "    num_batches = 0\n",
    "    \n",
    "    shuffled_indices = torch.randperm(50000)\n",
    "    \n",
    "    for i in range(0, 50000, bs):\n",
    "        \n",
    "        optimizer.zero_grad()\n",
    "        \n",
    "        indices = shuffled_indices[i : i+bs]\n",
    "        minibatch_data = train_data[indices]\n",
    "        minibatch_label = train_label[indices]\n",
    "        \n",
    "        inputs = minibatch_data.view(bs, 3*32*32)\n",
    "        inputs.requires_grad_()\n",
    "        \n",
    "        scores = net(inputs)\n",
    "        loss = criterion(scores, minibatch_label)\n",
    "        loss.backward()\n",
    "        optimizer.step()\n",
    "        \n",
    "        running_loss += loss.detach().item()\n",
    "        error = utils.get_error(scores.detach(), minibatch_label)\n",
    "        running_error += error.item()\n",
    "        num_batches += 1\n",
    "        \n",
    "    total_loss = running_loss / num_batches\n",
    "    total_error = running_error / num_batches\n",
    "    print(\"Epoch: {}, Loss: {}, Error: {}%\".format(\n",
    "        epoch, total_loss, total_error))"
   ]
  },
  {
   "cell_type": "markdown",
   "metadata": {},
   "source": [
    "### Choose an image at random from the test set and see how good/bad are the predictions"
   ]
  },
  {
   "cell_type": "code",
   "execution_count": 13,
   "metadata": {},
   "outputs": [
    {
     "data": {
      "image/png": "[encoded data removed]",
      "text/plain": [
       "<matplotlib.figure.Figure at 0x7fb818587588>"
      ]
     },
     "metadata": {},
     "output_type": "display_data"
    }
   ],
   "source": [
    "idx = randint(0, 10000-1)\n",
    "im = test_data[idx]\n",
    "\n",
    "utils.show(im)"
   ]
  },
  {
   "cell_type": "code",
   "execution_count": 14,
   "metadata": {},
   "outputs": [
    {
     "data": {
      "image/png": "[encoded data removed]",
      "text/plain": [
       "<matplotlib.figure.Figure at 0x7fb8184f0da0>"
      ]
     },
     "metadata": {},
     "output_type": "display_data"
    }
   ],
   "source": [
    "scores = net(im.view(1, 3*32*32))\n",
    "probs = F.softmax(scores, dim=1)\n",
    "utils.show_prob_cifar(probs)"
   ]
  }
 ],
 "metadata": {
  "kernelspec": {
   "display_name": "Python 3",
   "language": "python",
   "name": "python3"
  },
  "language_info": {
   "codemirror_mode": {
    "name": "ipython",
    "version": 3
   },
   "file_extension": ".py",
   "mimetype": "text/x-python",
   "name": "python",
   "nbconvert_exporter": "python",
   "pygments_lexer": "ipython3",
   "version": "3.6.9"
  }
 },
 "nbformat": 4,
 "nbformat_minor": 2
}
